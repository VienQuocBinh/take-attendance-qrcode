{
    "metadata": {
        "kernelspec": {
            "name": "SQL",
            "display_name": "SQL",
            "language": "sql"
        },
        "language_info": {
            "name": "sql",
            "version": ""
        }
    },
    "nbformat_minor": 2,
    "nbformat": 4,
    "cells": [
        {
            "cell_type": "markdown",
            "source": [
                "CREATE DATABASE prj301-take-attendence"
            ],
            "metadata": {
                "azdata_cell_guid": "2a777b9c-aee8-4133-8478-971718d9868d"
            }
        },
        {
            "cell_type": "code",
            "source": [
                "CREATE TABLE student (\n",
                "\tid INT PRIMARY KEY,\n",
                "    email NVARCHAR(40),\n",
                "    username NVARCHAR(40),\n",
                "    className NVARCHAR(10),\n",
                "    subjectCode NVARCHAR(6),\n",
                "    slot INT,\n",
                "    dates DATE\n",
                ")\n",
                ""
            ],
            "metadata": {
                "tags": [],
                "azdata_cell_guid": "7a86104f-85f1-4da0-b285-d6b96cc91a80"
            },
            "outputs": [
                {
                    "output_type": "display_data",
                    "data": {
                        "text/html": "Commands completed successfully."
                    },
                    "metadata": {}
                },
                {
                    "output_type": "display_data",
                    "data": {
                        "text/html": "Total execution time: 00:00:00.002"
                    },
                    "metadata": {}
                }
            ],
            "execution_count": 7
        },
        {
            "cell_type": "code",
            "source": [
                "DROP TABLE student\r\n",
                ""
            ],
            "metadata": {
                "azdata_cell_guid": "bb8e1489-c05a-4410-93cb-d3579c4c0120"
            },
            "outputs": [
                {
                    "output_type": "display_data",
                    "data": {
                        "text/html": "Commands completed successfully."
                    },
                    "metadata": {}
                },
                {
                    "output_type": "display_data",
                    "data": {
                        "text/html": "Total execution time: 00:00:00.002"
                    },
                    "metadata": {}
                }
            ],
            "execution_count": 5
        },
        {
            "cell_type": "code",
            "source": [
                "-- Get the last id \r\n",
                "SELECT TOP 1 id FROM student\r\n",
                "ORDER BY id DESC"
            ],
            "metadata": {
                "azdata_cell_guid": "2ee90153-03a1-43df-aa3e-3de770d42e99",
                "tags": [
                    "hide_input"
                ]
            },
            "outputs": [
                {
                    "output_type": "display_data",
                    "data": {
                        "text/html": "(1 row affected)"
                    },
                    "metadata": {}
                },
                {
                    "output_type": "display_data",
                    "data": {
                        "text/html": "Total execution time: 00:00:00.002"
                    },
                    "metadata": {}
                },
                {
                    "output_type": "execute_result",
                    "execution_count": 3,
                    "data": {
                        "application/vnd.dataresource+json": {
                            "schema": {
                                "fields": [
                                    {
                                        "name": "id"
                                    }
                                ]
                            },
                            "data": [
                                {
                                    "0": "1"
                                }
                            ]
                        },
                        "text/html": "<table><tr><th>id</th></tr><tr><td>1</td></tr></table>"
                    },
                    "metadata": {}
                }
            ],
            "execution_count": 3
        },
        {
            "cell_type": "code",
            "source": [
                "-- Student scan QR code then insert student's info\r\n",
                "INSERT INTO student (id, email, username, className, subjectCode, slot, dates)\r\n",
                "VALUES (2, 'asdf', 'test','se1615', 'prj301', 3, '12-12-2022')"
            ],
            "metadata": {
                "azdata_cell_guid": "e00bd060-b2f5-43c8-b9de-ca7c0cce27f9",
                "tags": [
                    "hide_input"
                ]
            },
            "outputs": [
                {
                    "output_type": "display_data",
                    "data": {
                        "text/html": "(1 row affected)"
                    },
                    "metadata": {}
                },
                {
                    "output_type": "display_data",
                    "data": {
                        "text/html": "Total execution time: 00:00:00"
                    },
                    "metadata": {}
                }
            ],
            "execution_count": 4
        },
        {
            "cell_type": "code",
            "source": [
                "SELECT id, email, username, className, subjectCode, slot, dates \r\n",
                "FROM student"
            ],
            "metadata": {
                "azdata_cell_guid": "9e68b347-9fa3-43c9-983d-db7971ce044c",
                "tags": []
            },
            "outputs": [
                {
                    "output_type": "display_data",
                    "data": {
                        "text/html": "(1 row affected)"
                    },
                    "metadata": {}
                },
                {
                    "output_type": "display_data",
                    "data": {
                        "text/html": "Total execution time: 00:00:00.002"
                    },
                    "metadata": {}
                },
                {
                    "output_type": "execute_result",
                    "metadata": {},
                    "execution_count": 13,
                    "data": {
                        "application/vnd.dataresource+json": {
                            "schema": {
                                "fields": [
                                    {
                                        "name": "id"
                                    },
                                    {
                                        "name": "email"
                                    },
                                    {
                                        "name": "username"
                                    },
                                    {
                                        "name": "className"
                                    },
                                    {
                                        "name": "subjectCode"
                                    },
                                    {
                                        "name": "slot"
                                    },
                                    {
                                        "name": "dates"
                                    }
                                ]
                            },
                            "data": [
                                {
                                    "0": "1",
                                    "1": "binhvqse161554@fpt.edu.vn",
                                    "2": "Vien Quoc Binh (K16_HCM)",
                                    "3": "SE1615",
                                    "4": "PRJ301",
                                    "5": "3",
                                    "6": "2022-02-24"
                                }
                            ]
                        },
                        "text/html": [
                            "<table>",
                            "<tr><th>id</th><th>email</th><th>username</th><th>className</th><th>subjectCode</th><th>slot</th><th>dates</th></tr>",
                            "<tr><td>1</td><td>binhvqse161554@fpt.edu.vn</td><td>Vien Quoc Binh (K16_HCM)</td><td>SE1615</td><td>PRJ301</td><td>3</td><td>2022-02-24</td></tr>",
                            "</table>"
                        ]
                    }
                }
            ],
            "execution_count": 13
        }
    ]
}